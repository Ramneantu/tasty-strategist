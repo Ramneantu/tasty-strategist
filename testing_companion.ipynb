{
 "cells": [
  {
   "cell_type": "code",
   "execution_count": 3,
   "metadata": {},
   "outputs": [],
   "source": [
    "from tastytrade import DXLinkStreamer\n",
    "from tastytrade.dxfeed import Greeks, Quote\n",
    "from tastytrade import Session, Account\n",
    "from tastytrade.instruments import Option, Equity\n",
    "\n",
    "from lib import TTConfig, TTOption, TTOptionSide"
   ]
  },
  {
   "cell_type": "code",
   "execution_count": 4,
   "metadata": {},
   "outputs": [],
   "source": [
    "config = TTConfig(filename='tt.sandbox.config')\n",
    "session = Session(config.username, config.password, is_test=not config.use_prod)"
   ]
  },
  {
   "cell_type": "code",
   "execution_count": 11,
   "metadata": {},
   "outputs": [
    {
     "data": {
      "text/plain": [
       "[]"
      ]
     },
     "execution_count": 11,
     "metadata": {},
     "output_type": "execute_result"
    }
   ],
   "source": [
    "Option.get_options(session, ['SPX'])"
   ]
  },
  {
   "cell_type": "code",
   "execution_count": null,
   "metadata": {},
   "outputs": [],
   "source": [
    "session.destroy()"
   ]
  }
 ],
 "metadata": {
  "kernelspec": {
   "display_name": "ctasty",
   "language": "python",
   "name": "python3"
  },
  "language_info": {
   "codemirror_mode": {
    "name": "ipython",
    "version": 3
   },
   "file_extension": ".py",
   "mimetype": "text/x-python",
   "name": "python",
   "nbconvert_exporter": "python",
   "pygments_lexer": "ipython3",
   "version": "3.11.10"
  }
 },
 "nbformat": 4,
 "nbformat_minor": 2
}
