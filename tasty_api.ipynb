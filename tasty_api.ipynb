{
 "cells": [
  {
   "cell_type": "code",
   "execution_count": 1,
   "metadata": {},
   "outputs": [
    {
     "name": "stdout",
     "output_type": "stream",
     "text": [
      "Login\n",
      "Validate\n",
      "Fetch accounts\n",
      "{\"time-in-force\": \"GTC\", \"price\": \"0.050000\", \"price-effect\": \"Credit\", \"order-type\": \"Limit\", \"legs\": [{\"instrument-type\": \"Equity Option\", \"symbol\": \"SPXW  241018C05500000\", \"quantity\": 1, \"action\": \"Sell to Open\"}, {\"instrument-type\": \"Equity Option\", \"symbol\": \"SPXW  241018C05600000\", \"quantity\": 1, \"action\": \"Buy to Open\"}]}\n",
      "Error 422\n",
      "Endpoint: /accounts/5WY01243/orders/dry-run\n",
      "Body: {'time-in-force': 'GTC', 'price': '0.050000', 'price-effect': 'Credit', 'order-type': 'Limit', 'legs': [{'instrument-type': 'Equity Option', 'symbol': 'SPXW  241018C05500000', 'quantity': 1, 'action': 'Sell to Open'}, {'instrument-type': 'Equity Option', 'symbol': 'SPXW  241018C05600000', 'quantity': 1, 'action': 'Buy to Open'}]}\n",
      "Headers: {'Content-Type': 'application/json', 'Accept': 'application/json', 'Authorization': 'sqSo23hptgy7P_L1zhDSKx2TYn-xMX39NSVDR7468-iRNHPaa27dCg+C'}\n",
      "Response: {\"error\":{\"code\":\"preflight_check_failure\",\"message\":\"One or more preflight checks failed\",\"errors\":[{\"code\":\"margin_check_failed\",\"message\":\"Your account does not have sufficient buying power available for this order. Please deposit funds or reduce the order size to place this.\"}]}}\n"
     ]
    },
    {
     "data": {
      "text/plain": [
       "False"
      ]
     },
     "execution_count": 1,
     "metadata": {},
     "output_type": "execute_result"
    }
   ],
   "source": [
    "from lib import TTConfig, TTApi, TTOption, TTOptionSide, TTOrder, TTTimeInForce, TTPriceEffect, TTOrderType, TTLegAction, TTInstrumentType\n",
    "import asyncio\n",
    "\n",
    "api = TTApi()\n",
    "\n",
    "api.login()\n",
    "print(\"Login\")\n",
    "if not api.login():\n",
    "    exit()\n",
    "\n",
    "print(\"Validate\")\n",
    "if not api.validate():\n",
    "    exit()\n",
    "\n",
    "print(\"Fetch accounts\")\n",
    "if not api.fetch_accounts():\n",
    "    exit()\n",
    "    \n",
    "\n",
    "# option = TTOption('SPXW', '241010', TTOptionSide.CALL, 5750)\n",
    "call_to_sell = TTOption('SPXW', '241018', TTOptionSide.CALL, 5500)\n",
    "call_to_buy = TTOption('SPXW', '241018', TTOptionSide.CALL, 5600)\n",
    "\n",
    "# api.get_instrument_options(call_to_sell.symbol)\n",
    "# api.get_instrument_options(call_to_buy.symbol)\n",
    "\n",
    "order = TTOrder(TTTimeInForce.GTC, 0.05, TTPriceEffect.CREDIT, TTOrderType.LIMIT)\n",
    "order.add_leg(TTInstrumentType.EQUITY_OPTION, call_to_sell.symbol, 1, TTLegAction.STO)\n",
    "order.add_leg(TTInstrumentType.EQUITY_OPTION, call_to_buy.symbol, 1, TTLegAction.BTO)\n",
    "api.simple_order(order)"
   ]
  },
  {
   "cell_type": "code",
   "execution_count": null,
   "metadata": {},
   "outputs": [],
   "source": [
    "# api.get_equity_options('SPXW')"
   ]
  },
  {
   "cell_type": "code",
   "execution_count": 10,
   "metadata": {},
   "outputs": [
    {
     "data": {
      "text/plain": [
       "True"
      ]
     },
     "execution_count": 10,
     "metadata": {},
     "output_type": "execute_result"
    }
   ],
   "source": [
    "api.logout()"
   ]
  }
 ],
 "metadata": {
  "kernelspec": {
   "display_name": "venv3",
   "language": "python",
   "name": "python3"
  },
  "language_info": {
   "codemirror_mode": {
    "name": "ipython",
    "version": 3
   },
   "file_extension": ".py",
   "mimetype": "text/x-python",
   "name": "python",
   "nbconvert_exporter": "python",
   "pygments_lexer": "ipython3",
   "version": "3.12.7"
  }
 },
 "nbformat": 4,
 "nbformat_minor": 4
}
