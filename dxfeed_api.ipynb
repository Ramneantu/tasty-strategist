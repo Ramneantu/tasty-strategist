{
 "cells": [
  {
   "cell_type": "code",
   "execution_count": 1,
   "metadata": {},
   "outputs": [],
   "source": [
    "from lib import TTConfig, TTOption, TTOptionSide\n",
    "from tastytrade import DXLinkStreamer, Session, Account, Option\n",
    "from tastytrade.dxfeed import EventType\n",
    "import asyncio"
   ]
  },
  {
   "cell_type": "code",
   "execution_count": 2,
   "metadata": {},
   "outputs": [],
   "source": [
    "config = TTConfig()"
   ]
  },
  {
   "cell_type": "code",
   "execution_count": 3,
   "metadata": {},
   "outputs": [],
   "source": [
    "session = Session(config.username, config.password, is_test=not config.use_prod)"
   ]
  },
  {
   "cell_type": "code",
   "execution_count": 4,
   "metadata": {},
   "outputs": [
    {
     "data": {
      "text/plain": [
       "[Account(account_number='5WY75488', opened_at=datetime.datetime(2024, 10, 1, 17, 32, 11, 360000, tzinfo=TzInfo(UTC)), nickname='Individual', account_type_name='Individual', is_closed=False, day_trader_status=False, is_firm_error=False, is_firm_proprietary=False, is_futures_approved=False, is_test_drive=False, margin_or_cash='Margin', is_foreign=True, created_at=datetime.datetime(2024, 10, 1, 17, 32, 11, 372000, tzinfo=TzInfo(UTC)), external_id='A20360ae9-1802-48a2-8f04-f21d81101e1e', closed_at=None, funding_date=None, investment_objective='SPECULATION', liquidity_needs='SOMEWHAT_IMPORTANT', risk_tolerance=None, investment_time_horizon=None, futures_account_purpose=None, external_fdid=None, suitable_options_level='No Restrictions', submitting_user_id=None)]"
      ]
     },
     "execution_count": 4,
     "metadata": {},
     "output_type": "execute_result"
    }
   ],
   "source": [
    "Account.get_accounts(session)"
   ]
  },
  {
   "cell_type": "code",
   "execution_count": 5,
   "metadata": {},
   "outputs": [],
   "source": [
    "option_for_request = TTOption('SPXW', '241010', TTOptionSide.CALL, 5750)"
   ]
  },
  {
   "cell_type": "code",
   "execution_count": 6,
   "metadata": {},
   "outputs": [],
   "source": [
    "option_served = Option.get_option(session, option_for_request.symbol)"
   ]
  },
  {
   "cell_type": "code",
   "execution_count": 7,
   "metadata": {},
   "outputs": [
    {
     "data": {
      "text/plain": [
       "'.SPXW241010C5750'"
      ]
     },
     "execution_count": 7,
     "metadata": {},
     "output_type": "execute_result"
    }
   ],
   "source": [
    "option_served.streamer_symbol"
   ]
  },
  {
   "cell_type": "code",
   "execution_count": 8,
   "metadata": {},
   "outputs": [],
   "source": [
    "streamer = await DXLinkStreamer.create(session)"
   ]
  },
  {
   "cell_type": "code",
   "execution_count": 9,
   "metadata": {},
   "outputs": [],
   "source": [
    "await streamer.subscribe(EventType.QUOTE, [option_served.streamer_symbol])"
   ]
  },
  {
   "cell_type": "code",
   "execution_count": 10,
   "metadata": {},
   "outputs": [
    {
     "name": "stdout",
     "output_type": "stream",
     "text": [
      "eventSymbol='.SPXW241010C5750' eventTime=0 sequence=0 timeNanoPart=0 bidTime=0 bidExchangeCode='C' askTime=0 askExchangeCode='C' bidPrice=Decimal('44.0') askPrice=Decimal('44.5') bidSize=Decimal('33.0') askSize=Decimal('5.0')\n"
     ]
    }
   ],
   "source": [
    "quote = await streamer.get_event(EventType.QUOTE)\n",
    "print(quote)"
   ]
  },
  {
   "cell_type": "code",
   "execution_count": 11,
   "metadata": {},
   "outputs": [],
   "source": [
    "session.destroy()"
   ]
  }
 ],
 "metadata": {
  "kernelspec": {
   "display_name": "trading",
   "language": "python",
   "name": "python3"
  },
  "language_info": {
   "codemirror_mode": {
    "name": "ipython",
    "version": 3
   },
   "file_extension": ".py",
   "mimetype": "text/x-python",
   "name": "python",
   "nbconvert_exporter": "python",
   "pygments_lexer": "ipython3",
   "version": "3.11.10"
  }
 },
 "nbformat": 4,
 "nbformat_minor": 2
}
