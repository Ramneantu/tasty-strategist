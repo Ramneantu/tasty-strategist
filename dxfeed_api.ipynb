{
 "cells": [
  {
   "cell_type": "code",
   "execution_count": 1,
   "metadata": {},
   "outputs": [
    {
     "ename": "ModuleNotFoundError",
     "evalue": "No module named 'tastytrade'",
     "output_type": "error",
     "traceback": [
      "\u001b[0;31m---------------------------------------------------------------------------\u001b[0m",
      "\u001b[0;31mModuleNotFoundError\u001b[0m                       Traceback (most recent call last)",
      "Cell \u001b[0;32mIn[1], line 2\u001b[0m\n\u001b[1;32m      1\u001b[0m \u001b[38;5;28;01mfrom\u001b[39;00m \u001b[38;5;21;01mlib\u001b[39;00m \u001b[38;5;28;01mimport\u001b[39;00m TTConfig, TTOption, TTOptionSide\n\u001b[0;32m----> 2\u001b[0m \u001b[38;5;28;01mfrom\u001b[39;00m \u001b[38;5;21;01mtastytrade\u001b[39;00m \u001b[38;5;28;01mimport\u001b[39;00m DXLinkStreamer, Session, Account, Option\n\u001b[1;32m      3\u001b[0m \u001b[38;5;28;01mfrom\u001b[39;00m \u001b[38;5;21;01mtastytrade\u001b[39;00m\u001b[38;5;21;01m.\u001b[39;00m\u001b[38;5;21;01mdxfeed\u001b[39;00m \u001b[38;5;28;01mimport\u001b[39;00m EventType\n\u001b[1;32m      4\u001b[0m \u001b[38;5;28;01mimport\u001b[39;00m \u001b[38;5;21;01masyncio\u001b[39;00m\n",
      "\u001b[0;31mModuleNotFoundError\u001b[0m: No module named 'tastytrade'"
     ]
    }
   ],
   "source": [
    "from lib import TTConfig, TTOption, TTOptionSide\n",
    "from tastytrade import DXLinkStreamer, Session, Account, Option\n",
    "from tastytrade.dxfeed import EventType\n",
    "import asyncio"
   ]
  },
  {
   "cell_type": "code",
   "execution_count": 2,
   "metadata": {},
   "outputs": [],
   "source": [
    "config = TTConfig()"
   ]
  },
  {
   "cell_type": "code",
   "execution_count": 3,
   "metadata": {},
   "outputs": [],
   "source": [
    "session = Session(config.username, config.password, is_test=not config.use_prod)"
   ]
  },
  {
   "cell_type": "code",
   "execution_count": 4,
   "metadata": {},
   "outputs": [
    {
     "data": {
      "text/plain": [
       "[Account(account_number='5WY75488', opened_at=datetime.datetime(2024, 10, 1, 17, 32, 11, 360000, tzinfo=TzInfo(UTC)), nickname='Individual', account_type_name='Individual', is_closed=False, day_trader_status=False, is_firm_error=False, is_firm_proprietary=False, is_futures_approved=False, is_test_drive=False, margin_or_cash='Margin', is_foreign=True, created_at=datetime.datetime(2024, 10, 1, 17, 32, 11, 372000, tzinfo=TzInfo(UTC)), external_id='A20360ae9-1802-48a2-8f04-f21d81101e1e', closed_at=None, funding_date=None, investment_objective='SPECULATION', liquidity_needs='SOMEWHAT_IMPORTANT', risk_tolerance=None, investment_time_horizon=None, futures_account_purpose=None, external_fdid=None, suitable_options_level='No Restrictions', submitting_user_id=None)]"
      ]
     },
     "execution_count": 4,
     "metadata": {},
     "output_type": "execute_result"
    }
   ],
   "source": [
    "Account.get_accounts(session)"
   ]
  },
  {
   "cell_type": "code",
   "execution_count": 5,
   "metadata": {},
   "outputs": [],
   "source": [
    "option_for_request = TTOption('SPXW', '241010', TTOptionSide.CALL, 5750)"
   ]
  },
  {
   "cell_type": "code",
   "execution_count": 6,
   "metadata": {},
   "outputs": [],
   "source": [
    "option_served = Option.get_option(session, option_for_request.symbol)"
   ]
  },
  {
   "cell_type": "code",
   "execution_count": 7,
   "metadata": {},
   "outputs": [
    {
     "data": {
      "text/plain": [
       "'.SPXW241010C5750'"
      ]
     },
     "execution_count": 7,
     "metadata": {},
     "output_type": "execute_result"
    }
   ],
   "source": [
    "option_served.streamer_symbol"
   ]
  },
  {
   "cell_type": "code",
   "execution_count": 8,
   "metadata": {},
   "outputs": [],
   "source": [
    "streamer = await DXLinkStreamer.create(session)"
   ]
  },
  {
   "cell_type": "code",
   "execution_count": 9,
   "metadata": {},
   "outputs": [],
   "source": [
    "await streamer.subscribe(EventType.QUOTE, [option_served.streamer_symbol])"
   ]
  },
  {
   "cell_type": "code",
   "execution_count": 10,
   "metadata": {},
   "outputs": [
    {
     "name": "stdout",
     "output_type": "stream",
     "text": [
      "eventSymbol='.SPXW241010C5750' eventTime=0 sequence=0 timeNanoPart=0 bidTime=0 bidExchangeCode='C' askTime=0 askExchangeCode='C' bidPrice=Decimal('44.0') askPrice=Decimal('44.5') bidSize=Decimal('33.0') askSize=Decimal('5.0')\n"
     ]
    }
   ],
   "source": [
    "quote = await streamer.get_event(EventType.QUOTE)\n",
    "print(quote)"
   ]
  },
  {
   "cell_type": "code",
   "execution_count": 11,
   "metadata": {},
   "outputs": [],
   "source": [
    "session.destroy()"
   ]
  }
 ],
 "metadata": {
  "kernelspec": {
   "display_name": "Python 3 (ipykernel)",
   "language": "python",
   "name": "python3"
  },
  "language_info": {
   "codemirror_mode": {
    "name": "ipython",
    "version": 3
   },
   "file_extension": ".py",
   "mimetype": "text/x-python",
   "name": "python",
   "nbconvert_exporter": "python",
   "pygments_lexer": "ipython3",
   "version": "3.12.7"
  }
 },
 "nbformat": 4,
 "nbformat_minor": 4
}
