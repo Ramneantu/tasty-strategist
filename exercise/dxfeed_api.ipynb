{
 "cells": [
  {
   "cell_type": "code",
   "execution_count": 1,
   "metadata": {},
   "outputs": [],
   "source": [
    "from lib import TTConfig, TTOption, TTOptionSide\n",
    "from tastytrade import DXLinkStreamer, Session, Account\n",
    "from tastytrade.instruments import Option, Equity\n",
    "from tastytrade.dxfeed import EventType\n",
    "import asyncio"
   ]
  },
  {
   "cell_type": "code",
   "execution_count": 2,
   "metadata": {},
   "outputs": [],
   "source": [
    "config = TTConfig()"
   ]
  },
  {
   "cell_type": "code",
   "execution_count": 3,
   "metadata": {},
   "outputs": [],
   "source": [
    "session = Session(config.username, config.password, is_test=not config.use_prod)"
   ]
  },
  {
   "cell_type": "code",
   "execution_count": 4,
   "metadata": {},
   "outputs": [
    {
     "data": {
      "text/plain": [
       "[Account(account_number='5WY75488', opened_at=datetime.datetime(2024, 10, 1, 17, 32, 11, 360000, tzinfo=TzInfo(UTC)), nickname='Individual', account_type_name='Individual', is_closed=False, day_trader_status=False, is_firm_error=False, is_firm_proprietary=False, is_futures_approved=False, is_test_drive=False, margin_or_cash='Margin', is_foreign=True, created_at=datetime.datetime(2024, 10, 1, 17, 32, 11, 372000, tzinfo=TzInfo(UTC)), external_id='A20360ae9-1802-48a2-8f04-f21d81101e1e', closed_at=None, funding_date=None, investment_objective='SPECULATION', liquidity_needs='SOMEWHAT_IMPORTANT', risk_tolerance=None, investment_time_horizon=None, futures_account_purpose=None, external_fdid=None, suitable_options_level='No Restrictions', submitting_user_id=None)]"
      ]
     },
     "execution_count": 4,
     "metadata": {},
     "output_type": "execute_result"
    }
   ],
   "source": [
    "Account.get_accounts(session)"
   ]
  },
  {
   "cell_type": "code",
   "execution_count": 5,
   "metadata": {},
   "outputs": [
    {
     "data": {
      "text/plain": [
       "<tastytrade.session.Session at 0x1439a3f90>"
      ]
     },
     "execution_count": 5,
     "metadata": {},
     "output_type": "execute_result"
    }
   ],
   "source": [
    "session"
   ]
  },
  {
   "cell_type": "code",
   "execution_count": 6,
   "metadata": {},
   "outputs": [],
   "source": [
    "option_for_request = TTOption('SPXW', '241014', TTOptionSide.CALL, 5850)"
   ]
  },
  {
   "cell_type": "code",
   "execution_count": 7,
   "metadata": {},
   "outputs": [],
   "source": [
    "option_served = Option.get_option(session, option_for_request.symbol)"
   ]
  },
  {
   "cell_type": "code",
   "execution_count": 8,
   "metadata": {},
   "outputs": [
    {
     "data": {
      "text/plain": [
       "'.SPXW241014C5850'"
      ]
     },
     "execution_count": 8,
     "metadata": {},
     "output_type": "execute_result"
    }
   ],
   "source": [
    "option_served.streamer_symbol"
   ]
  },
  {
   "cell_type": "code",
   "execution_count": 9,
   "metadata": {},
   "outputs": [
    {
     "name": "stdout",
     "output_type": "stream",
     "text": [
      "Got quote no. 1, ask price: 13.9, bid price: 14.2 \n",
      "Got quote no. 2, ask price: 13.8, bid price: 14.1 \n",
      "Got quote no. 3, ask price: 13.8, bid price: 14.0 \n",
      "Got quote no. 4, ask price: 14.1, bid price: 14.3 \n",
      "Got quote no. 5, ask price: 14.4, bid price: 14.7 \n",
      "Got quote no. 6, ask price: 14.5, bid price: 14.7 \n",
      "Got quote no. 7, ask price: 14.9, bid price: 15.2 \n",
      "Got quote no. 8, ask price: 14.8, bid price: 15.1 \n",
      "Got quote no. 9, ask price: 14.9, bid price: 15.2 \n",
      "Got quote no. 10, ask price: 14.7, bid price: 14.9 \n"
     ]
    }
   ],
   "source": [
    "num_events = 10\n",
    "gotten_so_far = 0\n",
    "async with DXLinkStreamer(session) as streamer:\n",
    "    await streamer.subscribe(EventType.QUOTE, [option_served.streamer_symbol])\n",
    "    quotes = []\n",
    "    try:\n",
    "        async for quote in streamer.listen(EventType.QUOTE):\n",
    "            gotten_so_far += 1\n",
    "            print(f'Got quote no. {gotten_so_far}, ask price: {quote.bidPrice}, bid price: {quote.askPrice} ')\n",
    "            quotes.append(quote)\n",
    "            if len(quotes) >= num_events:\n",
    "                break\n",
    "    except asyncio.CancelledError:\n",
    "        await streamer.cancel_channel(EventType.QUOTE)\n",
    "        await streamer.close()\n",
    "        print('Unsubscribed')\n"
   ]
  },
  {
   "cell_type": "code",
   "execution_count": 14,
   "metadata": {},
   "outputs": [
    {
     "data": {
      "text/plain": [
       "'wss://tasty-live-ws.dxfeed.com/realtime'"
      ]
     },
     "execution_count": 14,
     "metadata": {},
     "output_type": "execute_result"
    }
   ],
   "source": [
    "streamer._wss_url"
   ]
  },
  {
   "cell_type": "code",
   "execution_count": 16,
   "metadata": {},
   "outputs": [],
   "source": [
    "streamer = await DXLinkStreamer.create(session)"
   ]
  },
  {
   "cell_type": "code",
   "execution_count": 18,
   "metadata": {},
   "outputs": [
    {
     "name": "stdout",
     "output_type": "stream",
     "text": [
      "eventSymbol='.SPXW241010C5750' eventTime=0 sequence=0 timeNanoPart=0 bidTime=0 bidExchangeCode='C' askTime=0 askExchangeCode='C' bidPrice=Decimal('43.9') askPrice=Decimal('47.0') bidSize=Decimal('101.0') askSize=Decimal('101.0')\n"
     ]
    }
   ],
   "source": [
    "quote = await streamer.get_event(EventType.QUOTE)\n",
    "print(quote)"
   ]
  },
  {
   "cell_type": "code",
   "execution_count": null,
   "metadata": {},
   "outputs": [],
   "source": [
    "await streamer.cancel_channel(EventType.QUOTE)\n",
    "await streamer.close()"
   ]
  },
  {
   "cell_type": "code",
   "execution_count": 17,
   "metadata": {},
   "outputs": [],
   "source": [
    "session.destroy()"
   ]
  }
 ],
 "metadata": {
  "kernelspec": {
   "display_name": "trading",
   "language": "python",
   "name": "python3"
  },
  "language_info": {
   "codemirror_mode": {
    "name": "ipython",
    "version": 3
   },
   "file_extension": ".py",
   "mimetype": "text/x-python",
   "name": "python",
   "nbconvert_exporter": "python",
   "pygments_lexer": "ipython3",
   "version": "3.11.10"
  }
 },
 "nbformat": 4,
 "nbformat_minor": 2
}
